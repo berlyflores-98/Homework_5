{
 "cells": [
  {
   "cell_type": "markdown",
   "metadata": {},
   "source": [
    "## Observations and Insights "
   ]
  },
  {
   "cell_type": "markdown",
   "metadata": {},
   "source": []
  },
  {
   "cell_type": "code",
   "execution_count": 275,
   "metadata": {},
   "outputs": [
    {
     "data": {
      "text/html": [
       "<div>\n",
       "<style scoped>\n",
       "    .dataframe tbody tr th:only-of-type {\n",
       "        vertical-align: middle;\n",
       "    }\n",
       "\n",
       "    .dataframe tbody tr th {\n",
       "        vertical-align: top;\n",
       "    }\n",
       "\n",
       "    .dataframe thead th {\n",
       "        text-align: right;\n",
       "    }\n",
       "</style>\n",
       "<table border=\"1\" class=\"dataframe\">\n",
       "  <thead>\n",
       "    <tr style=\"text-align: right;\">\n",
       "      <th></th>\n",
       "      <th>Mouse ID</th>\n",
       "      <th>Drug Regimen</th>\n",
       "      <th>Sex</th>\n",
       "      <th>Age_months</th>\n",
       "      <th>Weight (g)</th>\n",
       "      <th>Timepoint</th>\n",
       "      <th>Tumor Volume (mm3)</th>\n",
       "      <th>Metastatic Sites</th>\n",
       "    </tr>\n",
       "  </thead>\n",
       "  <tbody>\n",
       "    <tr>\n",
       "      <th>0</th>\n",
       "      <td>k403</td>\n",
       "      <td>Ramicane</td>\n",
       "      <td>Male</td>\n",
       "      <td>21</td>\n",
       "      <td>16</td>\n",
       "      <td>0</td>\n",
       "      <td>45.000000</td>\n",
       "      <td>0</td>\n",
       "    </tr>\n",
       "    <tr>\n",
       "      <th>1</th>\n",
       "      <td>k403</td>\n",
       "      <td>Ramicane</td>\n",
       "      <td>Male</td>\n",
       "      <td>21</td>\n",
       "      <td>16</td>\n",
       "      <td>5</td>\n",
       "      <td>38.825898</td>\n",
       "      <td>0</td>\n",
       "    </tr>\n",
       "    <tr>\n",
       "      <th>2</th>\n",
       "      <td>k403</td>\n",
       "      <td>Ramicane</td>\n",
       "      <td>Male</td>\n",
       "      <td>21</td>\n",
       "      <td>16</td>\n",
       "      <td>10</td>\n",
       "      <td>35.014271</td>\n",
       "      <td>1</td>\n",
       "    </tr>\n",
       "    <tr>\n",
       "      <th>3</th>\n",
       "      <td>k403</td>\n",
       "      <td>Ramicane</td>\n",
       "      <td>Male</td>\n",
       "      <td>21</td>\n",
       "      <td>16</td>\n",
       "      <td>15</td>\n",
       "      <td>34.223992</td>\n",
       "      <td>1</td>\n",
       "    </tr>\n",
       "    <tr>\n",
       "      <th>4</th>\n",
       "      <td>k403</td>\n",
       "      <td>Ramicane</td>\n",
       "      <td>Male</td>\n",
       "      <td>21</td>\n",
       "      <td>16</td>\n",
       "      <td>20</td>\n",
       "      <td>32.997729</td>\n",
       "      <td>1</td>\n",
       "    </tr>\n",
       "  </tbody>\n",
       "</table>\n",
       "</div>"
      ],
      "text/plain": [
       "  Mouse ID Drug Regimen   Sex  Age_months  Weight (g)  Timepoint  \\\n",
       "0     k403     Ramicane  Male          21          16          0   \n",
       "1     k403     Ramicane  Male          21          16          5   \n",
       "2     k403     Ramicane  Male          21          16         10   \n",
       "3     k403     Ramicane  Male          21          16         15   \n",
       "4     k403     Ramicane  Male          21          16         20   \n",
       "\n",
       "   Tumor Volume (mm3)  Metastatic Sites  \n",
       "0           45.000000                 0  \n",
       "1           38.825898                 0  \n",
       "2           35.014271                 1  \n",
       "3           34.223992                 1  \n",
       "4           32.997729                 1  "
      ]
     },
     "execution_count": 275,
     "metadata": {},
     "output_type": "execute_result"
    }
   ],
   "source": [
    "# Dependencies and Setup\n",
    "import matplotlib.pyplot as plt\n",
    "import pandas as pd\n",
    "import numpy as np\n",
    "import scipy.stats as sts\n",
    "from scipy.stats import linregress\n",
    "\n",
    "# Study data files\n",
    "mouse_metadata_path = \"data/Mouse_metadata.csv\"\n",
    "study_results_path = \"data/Study_results.csv\"\n",
    "\n",
    "# Read the mouse data and the study results\n",
    "mouse_metadata = pd.read_csv(mouse_metadata_path)\n",
    "study_results = pd.read_csv(study_results_path)\n",
    "\n",
    "# Combine the data into a single dataset\n",
    "com_mou_stud = pd.merge(mouse_metadata, study_results, on=\"Mouse ID\", how=\"outer\")\n",
    "#setting Mouse ID as Index\n",
    "\n",
    "# Display the data table for preview\n",
    "com_mou_stud.head()"
   ]
  },
  {
   "cell_type": "code",
   "execution_count": 94,
   "metadata": {},
   "outputs": [
    {
     "data": {
      "text/plain": [
       "249"
      ]
     },
     "execution_count": 94,
     "metadata": {},
     "output_type": "execute_result"
    }
   ],
   "source": [
    "# Checking the number of mice. \n",
    "len(com_mou_stud['Mouse ID'].value_counts())\n"
   ]
  },
  {
   "cell_type": "code",
   "execution_count": 41,
   "metadata": {},
   "outputs": [
    {
     "name": "stdout",
     "output_type": "stream",
     "text": [
      "['g989']\n"
     ]
    }
   ],
   "source": [
    "# Getting the duplicate mice by ID number that shows up for Mouse ID and Timepoint. \n",
    "\n",
    "#making a list of mouse and their Timepoints\n",
    "\n",
    "dupli_mouse = com_mou_stud[com_mou_stud.duplicated(['Mouse ID','Timepoint'])]\n",
    "dupli_id = dupli_mouse['Mouse ID'].unique()\n",
    "print(dupli_id)"
   ]
  },
  {
   "cell_type": "code",
   "execution_count": 44,
   "metadata": {},
   "outputs": [
    {
     "data": {
      "text/html": [
       "<div>\n",
       "<style scoped>\n",
       "    .dataframe tbody tr th:only-of-type {\n",
       "        vertical-align: middle;\n",
       "    }\n",
       "\n",
       "    .dataframe tbody tr th {\n",
       "        vertical-align: top;\n",
       "    }\n",
       "\n",
       "    .dataframe thead th {\n",
       "        text-align: right;\n",
       "    }\n",
       "</style>\n",
       "<table border=\"1\" class=\"dataframe\">\n",
       "  <thead>\n",
       "    <tr style=\"text-align: right;\">\n",
       "      <th></th>\n",
       "      <th>Drug Regimen</th>\n",
       "      <th>Sex</th>\n",
       "      <th>Age_months</th>\n",
       "      <th>Weight (g)</th>\n",
       "      <th>Timepoint</th>\n",
       "      <th>Tumor Volume (mm3)</th>\n",
       "      <th>Metastatic Sites</th>\n",
       "    </tr>\n",
       "    <tr>\n",
       "      <th>Mouse ID</th>\n",
       "      <th></th>\n",
       "      <th></th>\n",
       "      <th></th>\n",
       "      <th></th>\n",
       "      <th></th>\n",
       "      <th></th>\n",
       "      <th></th>\n",
       "    </tr>\n",
       "  </thead>\n",
       "  <tbody>\n",
       "    <tr>\n",
       "      <th>g989</th>\n",
       "      <td>Propriva</td>\n",
       "      <td>Female</td>\n",
       "      <td>21</td>\n",
       "      <td>26</td>\n",
       "      <td>0</td>\n",
       "      <td>45.000000</td>\n",
       "      <td>0</td>\n",
       "    </tr>\n",
       "    <tr>\n",
       "      <th>g989</th>\n",
       "      <td>Propriva</td>\n",
       "      <td>Female</td>\n",
       "      <td>21</td>\n",
       "      <td>26</td>\n",
       "      <td>0</td>\n",
       "      <td>45.000000</td>\n",
       "      <td>0</td>\n",
       "    </tr>\n",
       "    <tr>\n",
       "      <th>g989</th>\n",
       "      <td>Propriva</td>\n",
       "      <td>Female</td>\n",
       "      <td>21</td>\n",
       "      <td>26</td>\n",
       "      <td>5</td>\n",
       "      <td>48.786801</td>\n",
       "      <td>0</td>\n",
       "    </tr>\n",
       "    <tr>\n",
       "      <th>g989</th>\n",
       "      <td>Propriva</td>\n",
       "      <td>Female</td>\n",
       "      <td>21</td>\n",
       "      <td>26</td>\n",
       "      <td>5</td>\n",
       "      <td>47.570392</td>\n",
       "      <td>0</td>\n",
       "    </tr>\n",
       "    <tr>\n",
       "      <th>g989</th>\n",
       "      <td>Propriva</td>\n",
       "      <td>Female</td>\n",
       "      <td>21</td>\n",
       "      <td>26</td>\n",
       "      <td>10</td>\n",
       "      <td>51.745156</td>\n",
       "      <td>0</td>\n",
       "    </tr>\n",
       "  </tbody>\n",
       "</table>\n",
       "</div>"
      ],
      "text/plain": [
       "         Drug Regimen     Sex  Age_months  Weight (g)  Timepoint  \\\n",
       "Mouse ID                                                           \n",
       "g989         Propriva  Female          21          26          0   \n",
       "g989         Propriva  Female          21          26          0   \n",
       "g989         Propriva  Female          21          26          5   \n",
       "g989         Propriva  Female          21          26          5   \n",
       "g989         Propriva  Female          21          26         10   \n",
       "\n",
       "          Tumor Volume (mm3)  Metastatic Sites  \n",
       "Mouse ID                                        \n",
       "g989               45.000000                 0  \n",
       "g989               45.000000                 0  \n",
       "g989               48.786801                 0  \n",
       "g989               47.570392                 0  \n",
       "g989               51.745156                 0  "
      ]
     },
     "execution_count": 44,
     "metadata": {},
     "output_type": "execute_result"
    }
   ],
   "source": [
    "# Optional: Get all the data for the duplicate mouse ID. \n",
    "dup_df = com_mou_stud\n",
    "dup_df = dup_df.set_index('Mouse ID')\n",
    "dup_mouse_ID = dup_df.loc[['g989']]\n",
    "#displaying duplicate mouse ID\n",
    "dup_mouse_ID.head()"
   ]
  },
  {
   "cell_type": "code",
   "execution_count": 311,
   "metadata": {},
   "outputs": [
    {
     "data": {
      "text/plain": [
       "249"
      ]
     },
     "execution_count": 311,
     "metadata": {},
     "output_type": "execute_result"
    }
   ],
   "source": [
    "# Checking the number of mice in the clean DataFrame.\n",
    "clean_df['Mouse ID'].value_counts()\n",
    "\n",
    "len(clean_df['Mouse ID'].value_counts())"
   ]
  },
  {
   "cell_type": "markdown",
   "metadata": {},
   "source": [
    "## Summary Statistics"
   ]
  },
  {
   "cell_type": "code",
   "execution_count": 310,
   "metadata": {},
   "outputs": [
    {
     "data": {
      "text/html": [
       "<div>\n",
       "<style scoped>\n",
       "    .dataframe tbody tr th:only-of-type {\n",
       "        vertical-align: middle;\n",
       "    }\n",
       "\n",
       "    .dataframe tbody tr th {\n",
       "        vertical-align: top;\n",
       "    }\n",
       "\n",
       "    .dataframe thead th {\n",
       "        text-align: right;\n",
       "    }\n",
       "</style>\n",
       "<table border=\"1\" class=\"dataframe\">\n",
       "  <thead>\n",
       "    <tr style=\"text-align: right;\">\n",
       "      <th></th>\n",
       "      <th>Index</th>\n",
       "      <th>Capomulin</th>\n",
       "      <th>Ramicane</th>\n",
       "      <th>Infubinol</th>\n",
       "      <th>Ceftamin</th>\n",
       "      <th>Ketapril</th>\n",
       "      <th>Naftisol</th>\n",
       "      <th>Zoniferol</th>\n",
       "      <th>Placebo</th>\n",
       "      <th>Stelasyn</th>\n",
       "      <th>Propriva</th>\n",
       "    </tr>\n",
       "  </thead>\n",
       "  <tbody>\n",
       "    <tr>\n",
       "      <th>0</th>\n",
       "      <td>Mean</td>\n",
       "      <td>40.675741</td>\n",
       "      <td>40.216745</td>\n",
       "      <td>52.884795</td>\n",
       "      <td>52.591172</td>\n",
       "      <td>55.235638</td>\n",
       "      <td>54.331565</td>\n",
       "      <td>53.236507</td>\n",
       "      <td>54.033581</td>\n",
       "      <td>54.233149</td>\n",
       "      <td>52.393463</td>\n",
       "    </tr>\n",
       "    <tr>\n",
       "      <th>1</th>\n",
       "      <td>Median</td>\n",
       "      <td>41.557809</td>\n",
       "      <td>40.673236</td>\n",
       "      <td>51.820584</td>\n",
       "      <td>51.776157</td>\n",
       "      <td>53.698743</td>\n",
       "      <td>52.509285</td>\n",
       "      <td>51.818479</td>\n",
       "      <td>52.288934</td>\n",
       "      <td>52.431737</td>\n",
       "      <td>50.909965</td>\n",
       "    </tr>\n",
       "    <tr>\n",
       "      <th>2</th>\n",
       "      <td>Variance</td>\n",
       "      <td>24.839296</td>\n",
       "      <td>23.383692</td>\n",
       "      <td>42.886388</td>\n",
       "      <td>39.069446</td>\n",
       "      <td>68.188930</td>\n",
       "      <td>65.817708</td>\n",
       "      <td>48.266689</td>\n",
       "      <td>60.830138</td>\n",
       "      <td>59.122106</td>\n",
       "      <td>42.862273</td>\n",
       "    </tr>\n",
       "    <tr>\n",
       "      <th>3</th>\n",
       "      <td>Standard Deviation</td>\n",
       "      <td>4.983904</td>\n",
       "      <td>4.835669</td>\n",
       "      <td>6.548770</td>\n",
       "      <td>6.250556</td>\n",
       "      <td>8.257659</td>\n",
       "      <td>8.112811</td>\n",
       "      <td>6.947423</td>\n",
       "      <td>7.799368</td>\n",
       "      <td>7.689090</td>\n",
       "      <td>6.546928</td>\n",
       "    </tr>\n",
       "    <tr>\n",
       "      <th>4</th>\n",
       "      <td>SEM</td>\n",
       "      <td>0.329346</td>\n",
       "      <td>0.320955</td>\n",
       "      <td>0.492236</td>\n",
       "      <td>0.469821</td>\n",
       "      <td>0.603860</td>\n",
       "      <td>0.596466</td>\n",
       "      <td>0.516398</td>\n",
       "      <td>0.581331</td>\n",
       "      <td>0.573111</td>\n",
       "      <td>0.525862</td>\n",
       "    </tr>\n",
       "  </tbody>\n",
       "</table>\n",
       "</div>"
      ],
      "text/plain": [
       "                Index  Capomulin   Ramicane  Infubinol   Ceftamin   Ketapril  \\\n",
       "0                Mean  40.675741  40.216745  52.884795  52.591172  55.235638   \n",
       "1              Median  41.557809  40.673236  51.820584  51.776157  53.698743   \n",
       "2            Variance  24.839296  23.383692  42.886388  39.069446  68.188930   \n",
       "3  Standard Deviation   4.983904   4.835669   6.548770   6.250556   8.257659   \n",
       "4                 SEM   0.329346   0.320955   0.492236   0.469821   0.603860   \n",
       "\n",
       "    Naftisol  Zoniferol    Placebo   Stelasyn   Propriva  \n",
       "0  54.331565  53.236507  54.033581  54.233149  52.393463  \n",
       "1  52.509285  51.818479  52.288934  52.431737  50.909965  \n",
       "2  65.817708  48.266689  60.830138  59.122106  42.862273  \n",
       "3   8.112811   6.947423   7.799368   7.689090   6.546928  \n",
       "4   0.596466   0.516398   0.581331   0.573111   0.525862  "
      ]
     },
     "execution_count": 310,
     "metadata": {},
     "output_type": "execute_result"
    }
   ],
   "source": [
    "# Generate a summary statistics table of mean, median, variance, standard deviation, and SEM of the tumor volume for each regimen\n",
    "\n",
    "# This method is the most straighforward, creating multiple series and putting them all together at the end.\n",
    "#Creating the series with statistical data for each drug\n",
    "cap_vol = clean_df.loc[clean_df['Drug Regimen']=='Capomulin']\n",
    "cap_vol_num = cap_vol['Tumor Volume (mm3)']\n",
    "sum_tab_cap = [np.mean(cap_vol_num),np.median(cap_vol_num),np.var(cap_vol_num),np.std(cap_vol_num),sts.sem(cap_vol_num)]\n",
    "\n",
    "ram_vol = clean_df.loc[clean_df['Drug Regimen']=='Ramicane']\n",
    "ram_vol_num = ram_vol['Tumor Volume (mm3)']\n",
    "sum_tab_ram = [np.mean(ram_vol_num),np.median(ram_vol_num),np.var(ram_vol_num),np.std(ram_vol_num),sts.sem(ram_vol_num)]\n",
    "\n",
    "inf_vol = clean_df.loc[clean_df['Drug Regimen']=='Infubinol']\n",
    "inf_vol_num = inf_vol['Tumor Volume (mm3)']\n",
    "sum_tab_inf = [np.mean(inf_vol_num),np.median(inf_vol_num),np.var(inf_vol_num),np.std(inf_vol_num),sts.sem(inf_vol_num)]\n",
    "\n",
    "cef_vol = clean_df.loc[clean_df['Drug Regimen']=='Ceftamin']\n",
    "cef_vol_num = cef_vol['Tumor Volume (mm3)']\n",
    "sum_tab_cef = [np.mean(cef_vol_num),np.median(cef_vol_num),np.var(cef_vol_num),np.std(cef_vol_num),sts.sem(cef_vol_num)]\n",
    "\n",
    "ket_vol = clean_df.loc[clean_df['Drug Regimen']=='Ketapril']\n",
    "ket_vol_num = ket_vol['Tumor Volume (mm3)']\n",
    "sum_tab_ket = [np.mean(ket_vol_num),np.median(ket_vol_num),np.var(ket_vol_num),np.std(ket_vol_num),sts.sem(ket_vol_num)]\n",
    "\n",
    "naf_vol = clean_df.loc[clean_df['Drug Regimen']=='Naftisol']\n",
    "naf_vol_num = naf_vol['Tumor Volume (mm3)']\n",
    "sum_tab_naf = [np.mean(naf_vol_num),np.median(naf_vol_num),np.var(naf_vol_num),np.std(naf_vol_num),sts.sem(naf_vol_num)]\n",
    "\n",
    "zon_vol = clean_df.loc[clean_df['Drug Regimen']=='Zoniferol']\n",
    "zon_vol_num = zon_vol['Tumor Volume (mm3)']\n",
    "sum_tab_zon = [np.mean(zon_vol_num),np.median(zon_vol_num),np.var(zon_vol_num),np.std(zon_vol_num),sts.sem(zon_vol_num)]\n",
    "\n",
    "pla_vol = clean_df.loc[clean_df['Drug Regimen']=='Placebo']\n",
    "pla_vol_num = pla_vol['Tumor Volume (mm3)']\n",
    "sum_tab_pla = [np.mean(pla_vol_num),np.median(pla_vol_num),np.var(pla_vol_num),np.std(pla_vol_num),sts.sem(pla_vol_num)]\n",
    "\n",
    "ste_vol = clean_df.loc[clean_df['Drug Regimen']=='Stelasyn']\n",
    "ste_vol_num = ste_vol['Tumor Volume (mm3)']\n",
    "sum_tab_ste = [np.mean(ste_vol_num),np.median(ste_vol_num),np.var(ste_vol_num),np.std(ste_vol_num),sts.sem(ste_vol_num)]\n",
    "\n",
    "pro_vol = clean_df.loc[clean_df['Drug Regimen']=='Propriva']\n",
    "pro_vol_num = pro_vol['Tumor Volume (mm3)']\n",
    "sum_tab_pro = [np.mean(pro_vol_num),np.median(pro_vol_num),np.var(pro_vol_num),np.std(pro_vol_num),sts.sem(pro_vol_num)]\n",
    "\n",
    "#putting all of the series in a DataFrame\n",
    "Summry_table_1 = pd.DataFrame({\"Index\":[\"Mean\", \"Median\",\"Variance\",\"Standard Deviation\",\"SEM\"],\n",
    "                               \"Capomulin\":sum_tab_cap,\n",
    "                               \"Ramicane\":sum_tab_ram, \n",
    "                               \"Infubinol\":sum_tab_inf,\n",
    "                               \"Ceftamin\":sum_tab_cef,\n",
    "                               \"Ketapril\":sum_tab_ket,\n",
    "                               \"Naftisol\":sum_tab_naf,\n",
    "                               \"Zoniferol\":sum_tab_zon,\n",
    "                               \"Placebo\":sum_tab_pla,\n",
    "                               \"Stelasyn\":sum_tab_ste,\n",
    "                               \"Propriva\":sum_tab_pro})\n",
    "\n",
    "#Display the DataFrame\n",
    "Summry_table_1                               "
   ]
  },
  {
   "cell_type": "code",
   "execution_count": 62,
   "metadata": {},
   "outputs": [
    {
     "data": {
      "text/html": [
       "<div>\n",
       "<style scoped>\n",
       "    .dataframe tbody tr th:only-of-type {\n",
       "        vertical-align: middle;\n",
       "    }\n",
       "\n",
       "    .dataframe tbody tr th {\n",
       "        vertical-align: top;\n",
       "    }\n",
       "\n",
       "    .dataframe thead th {\n",
       "        text-align: right;\n",
       "    }\n",
       "</style>\n",
       "<table border=\"1\" class=\"dataframe\">\n",
       "  <thead>\n",
       "    <tr style=\"text-align: right;\">\n",
       "      <th></th>\n",
       "      <th>Mean</th>\n",
       "      <th>Median</th>\n",
       "      <th>Variance</th>\n",
       "      <th>Standard Deviation</th>\n",
       "      <th>SEM</th>\n",
       "    </tr>\n",
       "    <tr>\n",
       "      <th>Drug Regimen</th>\n",
       "      <th></th>\n",
       "      <th></th>\n",
       "      <th></th>\n",
       "      <th></th>\n",
       "      <th></th>\n",
       "    </tr>\n",
       "  </thead>\n",
       "  <tbody>\n",
       "    <tr>\n",
       "      <th>Capomulin</th>\n",
       "      <td>40.675741</td>\n",
       "      <td>41.557809</td>\n",
       "      <td>24.947764</td>\n",
       "      <td>4.994774</td>\n",
       "      <td>0.329346</td>\n",
       "    </tr>\n",
       "    <tr>\n",
       "      <th>Ceftamin</th>\n",
       "      <td>52.591172</td>\n",
       "      <td>51.776157</td>\n",
       "      <td>39.290177</td>\n",
       "      <td>6.268188</td>\n",
       "      <td>0.469821</td>\n",
       "    </tr>\n",
       "    <tr>\n",
       "      <th>Infubinol</th>\n",
       "      <td>52.884795</td>\n",
       "      <td>51.820584</td>\n",
       "      <td>43.128684</td>\n",
       "      <td>6.567243</td>\n",
       "      <td>0.492236</td>\n",
       "    </tr>\n",
       "    <tr>\n",
       "      <th>Ketapril</th>\n",
       "      <td>55.235638</td>\n",
       "      <td>53.698743</td>\n",
       "      <td>68.553577</td>\n",
       "      <td>8.279709</td>\n",
       "      <td>0.603860</td>\n",
       "    </tr>\n",
       "    <tr>\n",
       "      <th>Naftisol</th>\n",
       "      <td>54.331565</td>\n",
       "      <td>52.509285</td>\n",
       "      <td>66.173479</td>\n",
       "      <td>8.134708</td>\n",
       "      <td>0.596466</td>\n",
       "    </tr>\n",
       "    <tr>\n",
       "      <th>Placebo</th>\n",
       "      <td>54.033581</td>\n",
       "      <td>52.288934</td>\n",
       "      <td>61.168083</td>\n",
       "      <td>7.821003</td>\n",
       "      <td>0.581331</td>\n",
       "    </tr>\n",
       "    <tr>\n",
       "      <th>Propriva</th>\n",
       "      <td>52.393463</td>\n",
       "      <td>50.909965</td>\n",
       "      <td>43.138803</td>\n",
       "      <td>6.568014</td>\n",
       "      <td>0.525862</td>\n",
       "    </tr>\n",
       "    <tr>\n",
       "      <th>Ramicane</th>\n",
       "      <td>40.216745</td>\n",
       "      <td>40.673236</td>\n",
       "      <td>23.486704</td>\n",
       "      <td>4.846308</td>\n",
       "      <td>0.320955</td>\n",
       "    </tr>\n",
       "    <tr>\n",
       "      <th>Stelasyn</th>\n",
       "      <td>54.233149</td>\n",
       "      <td>52.431737</td>\n",
       "      <td>59.450562</td>\n",
       "      <td>7.710419</td>\n",
       "      <td>0.573111</td>\n",
       "    </tr>\n",
       "    <tr>\n",
       "      <th>Zoniferol</th>\n",
       "      <td>53.236507</td>\n",
       "      <td>51.818479</td>\n",
       "      <td>48.533355</td>\n",
       "      <td>6.966589</td>\n",
       "      <td>0.516398</td>\n",
       "    </tr>\n",
       "  </tbody>\n",
       "</table>\n",
       "</div>"
      ],
      "text/plain": [
       "                   Mean     Median   Variance  Standard Deviation       SEM\n",
       "Drug Regimen                                                               \n",
       "Capomulin     40.675741  41.557809  24.947764            4.994774  0.329346\n",
       "Ceftamin      52.591172  51.776157  39.290177            6.268188  0.469821\n",
       "Infubinol     52.884795  51.820584  43.128684            6.567243  0.492236\n",
       "Ketapril      55.235638  53.698743  68.553577            8.279709  0.603860\n",
       "Naftisol      54.331565  52.509285  66.173479            8.134708  0.596466\n",
       "Placebo       54.033581  52.288934  61.168083            7.821003  0.581331\n",
       "Propriva      52.393463  50.909965  43.138803            6.568014  0.525862\n",
       "Ramicane      40.216745  40.673236  23.486704            4.846308  0.320955\n",
       "Stelasyn      54.233149  52.431737  59.450562            7.710419  0.573111\n",
       "Zoniferol     53.236507  51.818479  48.533355            6.966589  0.516398"
      ]
     },
     "execution_count": 62,
     "metadata": {},
     "output_type": "execute_result"
    }
   ],
   "source": [
    "# Generate a summary statistics table of mean, median, variance, standard deviation, and SEM of the tumor volume for each regimen\n",
    "\n",
    "# This method produces everything in a single groupby function\n",
    "#Grouping together\n",
    "grp_reg = clean_df.groupby(['Drug Regimen'])\n",
    "#creating dataframe for summary table\n",
    "Summry_table = pd.DataFrame(columns = [\"Mean\", \"Median\",\"Variance\",\"Standard Deviation\",\"SEM\"])\n",
    "#populating the summary table\n",
    "Summry_table['Mean'] = grp_reg['Tumor Volume (mm3)'].mean()\n",
    "Summry_table['Median'] = grp_reg['Tumor Volume (mm3)'].median()\n",
    "Summry_table['Variance'] = grp_reg['Tumor Volume (mm3)'].var()\n",
    "Summry_table['Standard Deviation'] = grp_reg['Tumor Volume (mm3)'].std()\n",
    "Summry_table['SEM'] = grp_reg['Tumor Volume (mm3)'].sem()\n",
    "\n",
    "Summry_table"
   ]
  },
  {
   "cell_type": "markdown",
   "metadata": {},
   "source": [
    "## Bar and Pie Charts"
   ]
  },
  {
   "cell_type": "code",
   "execution_count": 143,
   "metadata": {},
   "outputs": [
    {
     "data": {
      "text/plain": [
       "Text(0.5, 1.0, 'Number of Mice per Drug Regimen')"
      ]
     },
     "execution_count": 143,
     "metadata": {},
     "output_type": "execute_result"
    },
    {
     "data": {
      "image/png": "[encoded data removed]",
      "text/plain": [
       "<Figure size 720x360 with 1 Axes>"
      ]
     },
     "metadata": {
      "needs_background": "light"
     },
     "output_type": "display_data"
    }
   ],
   "source": [
    "# Generate a bar plot showing the total number of mice for each treatment throughout the course of the study using pandas. \n",
    "#getting the data ready for plotting\n",
    "drg_mouse = pd.DataFrame(columns = [\"Total Mice\"])\n",
    "drg_mouse['Total Mice'] = grp_reg['Mouse ID'].count()\n",
    "\n",
    "#plotting\n",
    "drg_mouse.plot(kind=\"bar\", figsize=(10,5))\n",
    "#placing ticks\n",
    "plt.title(\"Number of Mice per Drug Regimen\")\n"
   ]
  },
  {
   "cell_type": "code",
   "execution_count": 141,
   "metadata": {},
   "outputs": [
    {
     "data": {
      "text/plain": [
       "Text(0, 0.5, 'Number of Mice')"
      ]
     },
     "execution_count": 141,
     "metadata": {},
     "output_type": "execute_result"
    },
    {
     "data": {
      "image/png": "[encoded data removed]",
      "text/plain": [
       "<Figure size 432x288 with 1 Axes>"
      ]
     },
     "metadata": {
      "needs_background": "light"
     },
     "output_type": "display_data"
    }
   ],
   "source": [
    "# Generate a bar plot showing the total number of mice for each treatment throughout the course of the study using pyplot.\n",
    "\n",
    "#getting the data ready for plotting\n",
    "drg_mouse = pd.DataFrame(columns = [\"Total Mice\"])\n",
    "drg_mouse['Total Mice'] = grp_reg['Mouse ID'].count()\n",
    "drg_mouse.reset_index(inplace=True)\n",
    "\n",
    "#setting up x axia\n",
    "x_axis = np.arange(len(drg_mouse))\n",
    "#plotting\n",
    "plt.bar(x_axis, drg_mouse['Total Mice'], color='b', alpha=0.5)\n",
    "#placing ticks\n",
    "x = plt.xticks(x_axis, drg_mouse['Drug Regimen'], rotation=\"vertical\")\n",
    "plt.title(\"Number of Mice per Drug Regimen\")\n",
    "plt.xlabel(\"Drug Regimen\")\n",
    "plt.ylabel(\"Number of Mice\")"
   ]
  },
  {
   "cell_type": "code",
   "execution_count": 155,
   "metadata": {},
   "outputs": [
    {
     "data": {
      "text/plain": [
       "array([<matplotlib.axes._subplots.AxesSubplot object at 0x7fb07fad5750>],\n",
       "      dtype=object)"
      ]
     },
     "execution_count": 155,
     "metadata": {},
     "output_type": "execute_result"
    },
    {
     "data": {
      "image/png": "[encoded data removed]",
      "text/plain": [
       "<Figure size 720x360 with 1 Axes>"
      ]
     },
     "metadata": {},
     "output_type": "display_data"
    }
   ],
   "source": [
    "# Generate a pie plot showing the distribution of female versus male mice using pandas\n",
    "#making the data clean to plot\n",
    "gen_mouse = clean_df.groupby(['Sex'])\n",
    "gen_mouse_df = pd.DataFrame(columns = [\"Gender Count\"])\n",
    "gen_mouse_df[\"Gender Count\"] = clean_df['Sex'].value_counts()\n",
    "#plotting the data\n",
    "gen_mouse_df.plot(kind=\"pie\", subplots=True, figsize=(10,5), autopct='%1.1f%%')"
   ]
  },
  {
   "cell_type": "code",
   "execution_count": 161,
   "metadata": {},
   "outputs": [
    {
     "data": {
      "image/png": "[encoded data removed]",
      "text/plain": [
       "<Figure size 432x288 with 1 Axes>"
      ]
     },
     "metadata": {},
     "output_type": "display_data"
    }
   ],
   "source": [
    "# Generate a pie plot showing the distribution of female versus male mice using pyplot\n",
    "#making the data clean to plot\n",
    "gen_mouse = clean_df.groupby(['Sex'])\n",
    "gen_mouse_df = pd.DataFrame(columns = [\"Gender Count\"])\n",
    "gen_mouse_df[\"Gender Count\"] = clean_df['Sex'].value_counts()\n",
    "gen_mouse_df.reset_index(inplace=True)\n",
    "#plotting the data\n",
    "plt.pie(gen_mouse_df['Gender Count'], labels=gen_mouse_df['index'], autopct=\"%1.3f%%\", shadow=True, startangle=180)\n",
    "#placing ticks\n",
    "plt.title(\"Female VS Male Mice Population in Study\")\n",
    "plt.show()\n"
   ]
  },
  {
   "cell_type": "markdown",
   "metadata": {},
   "source": [
    "## Quartiles, Outliers and Boxplots"
   ]
  },
  {
   "cell_type": "code",
   "execution_count": 198,
   "metadata": {},
   "outputs": [
    {
     "data": {
      "text/html": [
       "<div>\n",
       "<style scoped>\n",
       "    .dataframe tbody tr th:only-of-type {\n",
       "        vertical-align: middle;\n",
       "    }\n",
       "\n",
       "    .dataframe tbody tr th {\n",
       "        vertical-align: top;\n",
       "    }\n",
       "\n",
       "    .dataframe thead th {\n",
       "        text-align: right;\n",
       "    }\n",
       "</style>\n",
       "<table border=\"1\" class=\"dataframe\">\n",
       "  <thead>\n",
       "    <tr style=\"text-align: right;\">\n",
       "      <th></th>\n",
       "      <th>Mouse ID</th>\n",
       "      <th>Drug Regimen</th>\n",
       "      <th>Sex</th>\n",
       "      <th>Age_months</th>\n",
       "      <th>Weight (g)</th>\n",
       "      <th>Timepoint</th>\n",
       "      <th>Tumor Volume (mm3)</th>\n",
       "      <th>Metastatic Sites</th>\n",
       "    </tr>\n",
       "  </thead>\n",
       "  <tbody>\n",
       "    <tr>\n",
       "      <th>9</th>\n",
       "      <td>k403</td>\n",
       "      <td>Ramicane</td>\n",
       "      <td>Male</td>\n",
       "      <td>21</td>\n",
       "      <td>16</td>\n",
       "      <td>45</td>\n",
       "      <td>22.050126</td>\n",
       "      <td>1</td>\n",
       "    </tr>\n",
       "    <tr>\n",
       "      <th>19</th>\n",
       "      <td>s185</td>\n",
       "      <td>Capomulin</td>\n",
       "      <td>Female</td>\n",
       "      <td>3</td>\n",
       "      <td>17</td>\n",
       "      <td>45</td>\n",
       "      <td>23.343598</td>\n",
       "      <td>1</td>\n",
       "    </tr>\n",
       "    <tr>\n",
       "      <th>29</th>\n",
       "      <td>x401</td>\n",
       "      <td>Capomulin</td>\n",
       "      <td>Female</td>\n",
       "      <td>16</td>\n",
       "      <td>15</td>\n",
       "      <td>45</td>\n",
       "      <td>28.484033</td>\n",
       "      <td>0</td>\n",
       "    </tr>\n",
       "    <tr>\n",
       "      <th>39</th>\n",
       "      <td>m601</td>\n",
       "      <td>Capomulin</td>\n",
       "      <td>Male</td>\n",
       "      <td>22</td>\n",
       "      <td>17</td>\n",
       "      <td>45</td>\n",
       "      <td>28.430964</td>\n",
       "      <td>1</td>\n",
       "    </tr>\n",
       "    <tr>\n",
       "      <th>49</th>\n",
       "      <td>g791</td>\n",
       "      <td>Ramicane</td>\n",
       "      <td>Male</td>\n",
       "      <td>11</td>\n",
       "      <td>16</td>\n",
       "      <td>45</td>\n",
       "      <td>29.128472</td>\n",
       "      <td>1</td>\n",
       "    </tr>\n",
       "  </tbody>\n",
       "</table>\n",
       "</div>"
      ],
      "text/plain": [
       "   Mouse ID Drug Regimen     Sex  Age_months  Weight (g)  Timepoint  \\\n",
       "9      k403     Ramicane    Male          21          16         45   \n",
       "19     s185    Capomulin  Female           3          17         45   \n",
       "29     x401    Capomulin  Female          16          15         45   \n",
       "39     m601    Capomulin    Male          22          17         45   \n",
       "49     g791     Ramicane    Male          11          16         45   \n",
       "\n",
       "    Tumor Volume (mm3)  Metastatic Sites  \n",
       "9            22.050126                 1  \n",
       "19           23.343598                 1  \n",
       "29           28.484033                 0  \n",
       "39           28.430964                 1  \n",
       "49           29.128472                 1  "
      ]
     },
     "execution_count": 198,
     "metadata": {},
     "output_type": "execute_result"
    }
   ],
   "source": [
    "# Calculate the final tumor volume of each mouse across four of the treatment regimens:  \n",
    "# Capomulin, Ramicane, Infubinol, and Ceftamin\n",
    "\n",
    "    #Finding all drugs required\n",
    "drug_vl_tim = clean_df.loc[clean_df['Drug Regimen'].isin(['Capomulin','Ramicane','Infubinol','Ceftamin'])]\n",
    "\n",
    "# Start by getting the last (greatest) timepoint for each mouse\n",
    "    #removing the dups of mouse id and keeping the last row as this has the greatest timepoint\n",
    "Rem_dups_df = drug_vl_tim[drug_vl_tim.duplicated(['Mouse ID'])]\n",
    "Rem_dups_df = Rem_dups_df.drop_duplicates(subset= ['Mouse ID'], keep=\"last\")\n",
    "\n",
    "# Merge this group df with the original dataframe to get the tumor volume at the last timepoint\n",
    "drug_vol = Rem_dups_df[['Drug Regimen','Tumor Volume (mm3)']]\n",
    "Rem_dups_df.head()"
   ]
  },
  {
   "cell_type": "code",
   "execution_count": 239,
   "metadata": {},
   "outputs": [
    {
     "name": "stdout",
     "output_type": "stream",
     "text": [
      "Following are Capomulin outliers\n",
      "Series([], Name: Tumor Volume (mm3), dtype: float64)\n",
      "Following are Ramicane outliers\n",
      "Series([], Name: Tumor Volume (mm3), dtype: float64)\n",
      "Following are Infubinol outliers\n",
      "669    36.321346\n",
      "Name: Tumor Volume (mm3), dtype: float64\n",
      "Following are Ceftamin outliers\n",
      "Series([], Name: Tumor Volume (mm3), dtype: float64)\n"
     ]
    }
   ],
   "source": [
    "# Put treatments into a list for for loop (and later for plot labels)\n",
    "treatments = ['Capomulin','Ramicane','Infubinol','Ceftamin']\n",
    "\n",
    "# Create empty list to fill with tumor vol data (for plotting)\n",
    "cap_vol = []\n",
    "ram_vol = []\n",
    "inf_vol = []\n",
    "cef_vol = []\n",
    "\n",
    "# Calculate the IQR and quantitatively determine if there are any potential outliers. \n",
    "\n",
    "    \n",
    "    # Locate the rows which contain mice on each drug and get the tumor volumes\n",
    "cap_vol = drug_vol.loc[drug_vol['Drug Regimen']=='Capomulin']\n",
    "cap_vol_num = cap_vol['Tumor Volume (mm3)']\n",
    "\n",
    "ram_vol = drug_vol.loc[drug_vol['Drug Regimen']=='Ramicane']\n",
    "ram_vol_num = ram_vol['Tumor Volume (mm3)']\n",
    "\n",
    "inf_vol = drug_vol.loc[drug_vol['Drug Regimen']=='Infubinol']\n",
    "inf_vol_num = inf_vol['Tumor Volume (mm3)']\n",
    "\n",
    "\n",
    "cef_vol = drug_vol.loc[drug_vol['Drug Regimen']=='Ceftamin']\n",
    "cef_vol_num = cef_vol['Tumor Volume (mm3)']\n",
    "\n",
    "\n",
    "    # add subset \n",
    "cap_quantiles = cap_vol_num.quantile([.25,.5,.75])\n",
    "cap_quantiles\n",
    "\n",
    "cap_Q1 = cap_quantiles[0.25]\n",
    "cap_Q3 = cap_quantiles[0.75]\n",
    "cap_iqr = cap_Q3 - cap_Q1\n",
    "cap_lower_bound = cap_Q1 - (1.5*cap_iqr)\n",
    "cap_upper_bound = cap_Q3 + (1.5*cap_iqr)\n",
    "\n",
    "ram_quantiles = ram_vol_num.quantile([.25,.5,.75])\n",
    "\n",
    "ram_Q1 = ram_quantiles[0.25]\n",
    "ram_Q3 = ram_quantiles[0.75]\n",
    "ram_iqr = ram_Q3 - ram_Q1\n",
    "ram_lower_bound = ram_Q1 - (1.5*ram_iqr)\n",
    "ram_upper_bound = ram_Q3 + (1.5*ram_iqr)\n",
    "\n",
    "inf_quantiles = inf_vol_num.quantile([.25,.5,.75])\n",
    "inf_Q1 = inf_quantiles[0.25]\n",
    "inf_Q3 = inf_quantiles[0.75]\n",
    "inf_iqr = inf_Q3 - inf_Q1\n",
    "inf_lower_bound = inf_Q1 - (1.5*inf_iqr)\n",
    "inf_upper_bound = inf_Q3 + (1.5*inf_iqr)\n",
    "\n",
    "\n",
    "cef_quantiles = cef_vol_num.quantile([.25,.5,.75])\n",
    "cef_Q1 = cef_quantiles[0.25]\n",
    "cef_Q3 = cef_quantiles[0.75]\n",
    "cef_iqr = cef_Q3 - cef_Q1\n",
    "cef_lower_bound = cef_Q1 - (1.5*cef_iqr)\n",
    "cef_upper_bound = cef_Q3 + (1.5*cef_iqr)\n",
    "\n",
    " # Determine outliers using upper and lower bounds\n",
    "cap_outliers = cap_vol_num.loc[(cap_vol_num < cap_lower_bound) | (cap_vol_num > cap_upper_bound)]\n",
    "ram_outliers = ram_vol_num.loc[(ram_vol_num < ram_lower_bound) | (ram_vol_num > ram_upper_bound)]\n",
    "inf_outliers = inf_vol_num.loc[(inf_vol_num < inf_lower_bound) | (inf_vol_num > inf_upper_bound)]\n",
    "cef_outliers = cef_vol_num.loc[(cef_vol_num < cef_lower_bound) | (cef_vol_num > cef_upper_bound)]\n",
    "\n",
    "print(\"Following are Capomulin outliers\")\n",
    "print(cap_outliers)\n",
    "\n",
    "print(\"Following are Ramicane outliers\")\n",
    "print(ram_outliers)\n",
    "\n",
    "print(\"Following are Infubinol outliers\")\n",
    "print(inf_outliers)\n",
    "\n",
    "print(\"Following are Ceftamin outliers\")\n",
    "print(cef_outliers)"
   ]
  },
  {
   "cell_type": "code",
   "execution_count": 245,
   "metadata": {},
   "outputs": [
    {
     "data": {
      "image/png": "[encoded data removed]",
      "text/plain": [
       "<Figure size 720x360 with 1 Axes>"
      ]
     },
     "metadata": {
      "needs_background": "light"
     },
     "output_type": "display_data"
    }
   ],
   "source": [
    "# Generate a box plot of the final tumor volume of each mouse across four regimens of interest\n",
    "#combineing all data sets to plot \n",
    "combined = [cap_vol_num, ram_vol_num,inf_vol_num,cef_vol_num]\n",
    "plt.figure(figsize=(10,5))\n",
    "#Ticks\n",
    "plt.title('Final Tumor volume for each Drug Regimen')\n",
    "plt.ylabel('Tumor Volumne')\n",
    "plt.xlabel('Drug Regimen')\n",
    "#plotting\n",
    "plt.boxplot(combined,labels = treatments)\n",
    "plt.show()"
   ]
  },
  {
   "cell_type": "markdown",
   "metadata": {},
   "source": [
    "## Line and Scatter Plots"
   ]
  },
  {
   "cell_type": "code",
   "execution_count": 264,
   "metadata": {},
   "outputs": [
    {
     "data": {
      "text/plain": [
       "Text(0.5, 0, 'Timepoint')"
      ]
     },
     "execution_count": 264,
     "metadata": {},
     "output_type": "execute_result"
    },
    {
     "data": {
      "image/png": "[encoded data removed]",
      "text/plain": [
       "<Figure size 432x288 with 1 Axes>"
      ]
     },
     "metadata": {
      "needs_background": "light"
     },
     "output_type": "display_data"
    }
   ],
   "source": [
    "# Generate a line plot of time point versus tumor volume for a mouse treated with Capomulin\n",
    "# I will be using 's185', getting the data for the mouse\n",
    "mouse_data = clean_df.loc[clean_df['Mouse ID']== 's185']\n",
    "\n",
    "#plotting data\n",
    "plt.plot(mouse_data['Tumor Volume (mm3)'],mouse_data['Timepoint'])\n",
    "#putting labels\n",
    "plt.title('Tumor Volume over Timepoint for Mouse s185 treated with Capomulin')\n",
    "plt.ylabel('Tumor Volume (mm3)')\n",
    "plt.xlabel('Timepoint')"
   ]
  },
  {
   "cell_type": "code",
   "execution_count": 267,
   "metadata": {},
   "outputs": [
    {
     "data": {
      "text/plain": [
       "Text(0.5, 0, 'Weight (g)')"
      ]
     },
     "execution_count": 267,
     "metadata": {},
     "output_type": "execute_result"
    },
    {
     "data": {
      "image/png": "[encoded data removed]",
      "text/plain": [
       "<Figure size 504x360 with 1 Axes>"
      ]
     },
     "metadata": {
      "needs_background": "light"
     },
     "output_type": "display_data"
    }
   ],
   "source": [
    "# Generate a scatter plot of mouse weight versus average tumor volume for the Capomulin regimen\n",
    "#gathering all mouse data that was treated using Capomulin\n",
    "Cap_data = clean_df.loc[clean_df['Drug Regimen']=='Capomulin']\n",
    "#setting a new dataframe to get the weight and the average tumor volume\n",
    "mouse_weigh_tumor = pd.DataFrame(columns = [\"Weight\",\"Avg Tumor Volume (mm3)\"])\n",
    "mouse_we_grp = Cap_data.groupby(['Mouse ID'])\n",
    "mouse_weigh_tumor['Weight'] = mouse_we_grp['Weight (g)'].mean()\n",
    "mouse_weigh_tumor['Tumor Volume (mm3)'] = mouse_we_grp['Tumor Volume (mm3)'].mean()\n",
    "\n",
    "#plotting\n",
    "plt.figure(figsize=(7,5))\n",
    "plt.scatter(x=mouse_weigh_tumor['Weight'], y=mouse_weigh_tumor['Tumor Volume (mm3)'], marker=\"o\", facecolors=\"blue\", edgecolors=\"blue\", alpha=0.8)\n",
    "\n",
    "#ticks\n",
    "\n",
    "plt.title('Mouse Weight compared to Tumor Volume for Capomulin Treatment')\n",
    "plt.ylabel('Tumor Volume (mm3)')\n",
    "plt.xlabel('Weight (g)')\n",
    "\n"
   ]
  },
  {
   "cell_type": "markdown",
   "metadata": {},
   "source": [
    "## Correlation and Regression"
   ]
  },
  {
   "cell_type": "code",
   "execution_count": 278,
   "metadata": {},
   "outputs": [
    {
     "data": {
      "image/png": "[encoded data removed]",
      "text/plain": [
       "<Figure size 504x360 with 1 Axes>"
      ]
     },
     "metadata": {
      "needs_background": "light"
     },
     "output_type": "display_data"
    },
    {
     "name": "stdout",
     "output_type": "stream",
     "text": [
      "The correlation between both factors is 0.84\n",
      "The p-value is 1.322572243471279e-07\n"
     ]
    }
   ],
   "source": [
    "# Calculate the correlation coefficient and linear regression model \n",
    "# for mouse weight and average tumor volume for the Capomulin regimen\n",
    "\n",
    "#cal correlation\n",
    "weight = mouse_weigh_tumor['Weight']\n",
    "Tumor_vol = mouse_weigh_tumor['Tumor Volume (mm3)']\n",
    "correlation = sts.pearsonr(weight, Tumor_vol)\n",
    "\n",
    "# Run the regression and store each of the returned values\n",
    "slope, intercept, rvalue, pvalue, stderr = linregress(weight, Tumor_vol)\n",
    "\n",
    "# Calculate the predictions for each value of x (# Rooms)\n",
    "regression_values = weight * slope + intercept\n",
    "\n",
    "\n",
    "#plotting scatter\n",
    "plt.figure(figsize=(7,5))\n",
    "plt.scatter(x=mouse_weigh_tumor['Weight'], y=mouse_weigh_tumor['Tumor Volume (mm3)'], marker=\"o\", facecolors=\"blue\", edgecolors=\"blue\", alpha=0.8)\n",
    "# Plot the regression line\n",
    "plt.plot(mouse_weigh_tumor['Weight'], regression_values, \"red\")\n",
    "\n",
    "# Add labels\n",
    "\n",
    "plt.title('Mouse Weight compared to Tumor Volume for Capomulin Treatment')\n",
    "plt.ylabel('Tumor Volume (mm3)')\n",
    "plt.xlabel('Weight (g)')\n",
    "plt.show()\n",
    "\n",
    "\n",
    "print(f\"The correlation between both factors is {round(correlation[0],2)}\")\n",
    "print(f\"The p-value is {correlation[1]}\")\n",
    "\n"
   ]
  },
  {
   "cell_type": "code",
   "execution_count": null,
   "metadata": {},
   "outputs": [],
   "source": []
  }
 ],
 "metadata": {
  "anaconda-cloud": {},
  "kernelspec": {
   "display_name": "Python 3",
   "language": "python",
   "name": "python3"
  },
  "language_info": {
   "codemirror_mode": {
    "name": "ipython",
    "version": 3
   },
   "file_extension": ".py",
   "mimetype": "text/x-python",
   "name": "python",
   "nbconvert_exporter": "python",
   "pygments_lexer": "ipython3",
   "version": "3.7.6"
  }
 },
 "nbformat": 4,
 "nbformat_minor": 2
}
